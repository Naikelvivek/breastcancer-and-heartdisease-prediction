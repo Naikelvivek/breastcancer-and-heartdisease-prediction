{
 "cells": [
  {
   "cell_type": "code",
   "execution_count": null,
   "id": "d546b8cb-9ba2-48bf-8ec6-d2cc9b5eaf49",
   "metadata": {},
   "outputs": [],
   "source": []
  }
 ],
 "metadata": {
  "kernelspec": {
   "display_name": "",
   "name": ""
  },
  "language_info": {
   "name": ""
  }
 },
 "nbformat": 4,
 "nbformat_minor": 5
}
