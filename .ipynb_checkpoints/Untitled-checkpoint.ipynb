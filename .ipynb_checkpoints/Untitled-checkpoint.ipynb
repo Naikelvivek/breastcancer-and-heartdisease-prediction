{
 "cells": [
  {
   "cell_type": "code",
   "execution_count": null,
   "id": "b3f92971-31a3-4f0a-8ff7-f8f0de80c989",
   "metadata": {},
   "outputs": [],
   "source": [
    "import numpy as np\n",
    "import pandas as pd "
   ]
  },
  {
   "cell_type": "code",
   "execution_count": null,
   "id": "16e5292f-60d3-4275-8058-f1c1aa40a07c",
   "metadata": {},
   "outputs": [],
   "source": []
  }
 ],
 "metadata": {
  "kernelspec": {
   "display_name": "Python 3 (ipykernel)",
   "language": "python",
   "name": "python3"
  },
  "language_info": {
   "codemirror_mode": {
    "name": "ipython",
    "version": 3
   },
   "file_extension": ".py",
   "mimetype": "text/x-python",
   "name": "python",
   "nbconvert_exporter": "python",
   "pygments_lexer": "ipython3",
   "version": "3.12.2"
  }
 },
 "nbformat": 4,
 "nbformat_minor": 5
}
